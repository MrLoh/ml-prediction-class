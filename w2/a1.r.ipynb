{
 "cells": [
  {
   "cell_type": "code",
   "execution_count": 5,
   "metadata": {
    "collapsed": false
   },
   "outputs": [],
   "source": [
    "library(magrittr)\n",
    "library(dplyr)"
   ]
  },
  {
   "cell_type": "code",
   "execution_count": 3,
   "metadata": {
    "collapsed": false
   },
   "outputs": [],
   "source": [
    "train_set = read.csv(\"../data/kc_house_train_data.csv\")\n",
    "test_set = read.csv(\"../data/kc_house_test_data.csv\")"
   ]
  },
  {
   "cell_type": "code",
   "execution_count": 13,
   "metadata": {
    "collapsed": false
   },
   "outputs": [],
   "source": [
    "ls = lapply(list(train_set, test_set), function(df) {\n",
    "    mutate(df, \n",
    "           bedrooms_squared = bedrooms^2, \n",
    "           bed_bath_rooms = bedrooms * bathrooms, \n",
    "           log_sqft_living = log(sqft_living), \n",
    "           lat_plus_long = lat + long)\n",
    "})\n",
    "train_set = ls[[1]]\n",
    "test_set = ls[[2]]"
   ]
  },
  {
   "cell_type": "code",
   "execution_count": 15,
   "metadata": {
    "collapsed": false
   },
   "outputs": [
    {
     "data": {
      "text/html": [
       "<ol class=list-inline>\n",
       "\t<li>'id'</li>\n",
       "\t<li>'date'</li>\n",
       "\t<li>'price'</li>\n",
       "\t<li>'bedrooms'</li>\n",
       "\t<li>'bathrooms'</li>\n",
       "\t<li>'sqft_living'</li>\n",
       "\t<li>'sqft_lot'</li>\n",
       "\t<li>'floors'</li>\n",
       "\t<li>'waterfront'</li>\n",
       "\t<li>'view'</li>\n",
       "\t<li>'condition'</li>\n",
       "\t<li>'grade'</li>\n",
       "\t<li>'sqft_above'</li>\n",
       "\t<li>'sqft_basement'</li>\n",
       "\t<li>'yr_built'</li>\n",
       "\t<li>'yr_renovated'</li>\n",
       "\t<li>'zipcode'</li>\n",
       "\t<li>'lat'</li>\n",
       "\t<li>'long'</li>\n",
       "\t<li>'sqft_living15'</li>\n",
       "\t<li>'sqft_lot15'</li>\n",
       "\t<li>'bedrooms_squared'</li>\n",
       "\t<li>'bed_bath_rooms'</li>\n",
       "\t<li>'log_sqft_living'</li>\n",
       "\t<li>'lat_plus_long'</li>\n",
       "</ol>\n"
      ],
      "text/latex": [
       "\\begin{enumerate*}\n",
       "\\item 'id'\n",
       "\\item 'date'\n",
       "\\item 'price'\n",
       "\\item 'bedrooms'\n",
       "\\item 'bathrooms'\n",
       "\\item 'sqft_living'\n",
       "\\item 'sqft_lot'\n",
       "\\item 'floors'\n",
       "\\item 'waterfront'\n",
       "\\item 'view'\n",
       "\\item 'condition'\n",
       "\\item 'grade'\n",
       "\\item 'sqft_above'\n",
       "\\item 'sqft_basement'\n",
       "\\item 'yr_built'\n",
       "\\item 'yr_renovated'\n",
       "\\item 'zipcode'\n",
       "\\item 'lat'\n",
       "\\item 'long'\n",
       "\\item 'sqft_living15'\n",
       "\\item 'sqft_lot15'\n",
       "\\item 'bedrooms_squared'\n",
       "\\item 'bed_bath_rooms'\n",
       "\\item 'log_sqft_living'\n",
       "\\item 'lat_plus_long'\n",
       "\\end{enumerate*}\n"
      ],
      "text/markdown": [
       "1. 'id'\n",
       "2. 'date'\n",
       "3. 'price'\n",
       "4. 'bedrooms'\n",
       "5. 'bathrooms'\n",
       "6. 'sqft_living'\n",
       "7. 'sqft_lot'\n",
       "8. 'floors'\n",
       "9. 'waterfront'\n",
       "10. 'view'\n",
       "11. 'condition'\n",
       "12. 'grade'\n",
       "13. 'sqft_above'\n",
       "14. 'sqft_basement'\n",
       "15. 'yr_built'\n",
       "16. 'yr_renovated'\n",
       "17. 'zipcode'\n",
       "18. 'lat'\n",
       "19. 'long'\n",
       "20. 'sqft_living15'\n",
       "21. 'sqft_lot15'\n",
       "22. 'bedrooms_squared'\n",
       "23. 'bed_bath_rooms'\n",
       "24. 'log_sqft_living'\n",
       "25. 'lat_plus_long'\n",
       "\n",
       "\n"
      ],
      "text/plain": [
       " [1] \"id\"               \"date\"             \"price\"            \"bedrooms\"        \n",
       " [5] \"bathrooms\"        \"sqft_living\"      \"sqft_lot\"         \"floors\"          \n",
       " [9] \"waterfront\"       \"view\"             \"condition\"        \"grade\"           \n",
       "[13] \"sqft_above\"       \"sqft_basement\"    \"yr_built\"         \"yr_renovated\"    \n",
       "[17] \"zipcode\"          \"lat\"              \"long\"             \"sqft_living15\"   \n",
       "[21] \"sqft_lot15\"       \"bedrooms_squared\" \"bed_bath_rooms\"   \"log_sqft_living\" \n",
       "[25] \"lat_plus_long\"   "
      ]
     },
     "execution_count": 15,
     "metadata": {},
     "output_type": "execute_result"
    },
    {
     "data": {
      "text/html": [
       "25"
      ],
      "text/latex": [
       "25"
      ],
      "text/markdown": [
       "25"
      ],
      "text/plain": [
       "[1] 25"
      ]
     },
     "execution_count": 15,
     "metadata": {},
     "output_type": "execute_result"
    }
   ],
   "source": [
    "train_set %>% colnames\n",
    "train_set %>% colnames %>% length"
   ]
  },
  {
   "cell_type": "code",
   "execution_count": 46,
   "metadata": {
    "collapsed": false
   },
   "outputs": [
    {
     "data": {
      "text/html": [
       "<dl class=dl-horizontal>\n",
       "\t<dt>bedrooms_squared</dt>\n",
       "\t\t<dd>12.45</dd>\n",
       "\t<dt>bed_bath_rooms</dt>\n",
       "\t\t<dd>7.5</dd>\n",
       "\t<dt>log_sqft_living</dt>\n",
       "\t\t<dd>7.55</dd>\n",
       "\t<dt>lat_plus_long</dt>\n",
       "\t\t<dd>-74.65</dd>\n",
       "</dl>\n"
      ],
      "text/latex": [
       "\\begin{description*}\n",
       "\\item[bedrooms_squared] 12.45\n",
       "\\item[bed_bath_rooms] 7.5\n",
       "\\item[log_sqft_living] 7.55\n",
       "\\item[lat_plus_long] -74.65\n",
       "\\end{description*}\n"
      ],
      "text/markdown": [
       "bedrooms_squared\n",
       ":   12.45bed_bath_rooms\n",
       ":   7.5log_sqft_living\n",
       ":   7.55lat_plus_long\n",
       ":   -74.65\n",
       "\n"
      ],
      "text/plain": [
       "bedrooms_squared   bed_bath_rooms  log_sqft_living    lat_plus_long \n",
       "           12.45             7.50             7.55           -74.65 "
      ]
     },
     "execution_count": 46,
     "metadata": {},
     "output_type": "execute_result"
    }
   ],
   "source": [
    "test_set[22:25] %>% colMeans %>% round(., 2)"
   ]
  },
  {
   "cell_type": "code",
   "execution_count": 24,
   "metadata": {
    "collapsed": false
   },
   "outputs": [
    {
     "data": {
      "text/html": [
       "<dl class=dl-horizontal>\n",
       "\t<dt>(Intercept)</dt>\n",
       "\t\t<dd>-69075726.7925698</dd>\n",
       "\t<dt>sqft_living</dt>\n",
       "\t\t<dd>312.25864627322</dd>\n",
       "\t<dt>bedrooms</dt>\n",
       "\t\t<dd>-59586.5331536121</dd>\n",
       "\t<dt>bathrooms</dt>\n",
       "\t\t<dd>15706.7420827348</dd>\n",
       "\t<dt>lat</dt>\n",
       "\t\t<dd>658619.263930518</dd>\n",
       "\t<dt>long</dt>\n",
       "\t\t<dd>-309374.351268233</dd>\n",
       "</dl>\n"
      ],
      "text/latex": [
       "\\begin{description*}\n",
       "\\item[(Intercept)] -69075726.7925698\n",
       "\\item[sqft_living] 312.25864627322\n",
       "\\item[bedrooms] -59586.5331536121\n",
       "\\item[bathrooms] 15706.7420827348\n",
       "\\item[lat] 658619.263930518\n",
       "\\item[long] -309374.351268233\n",
       "\\end{description*}\n"
      ],
      "text/markdown": [
       "(Intercept)\n",
       ":   -69075726.7925698sqft_living\n",
       ":   312.25864627322bedrooms\n",
       ":   -59586.5331536121bathrooms\n",
       ":   15706.7420827348lat\n",
       ":   658619.263930518long\n",
       ":   -309374.351268233\n",
       "\n"
      ],
      "text/plain": [
       "  (Intercept)   sqft_living      bedrooms     bathrooms           lat \n",
       "-6.907573e+07  3.122586e+02 -5.958653e+04  1.570674e+04  6.586193e+05 \n",
       "         long \n",
       "-3.093744e+05 "
      ]
     },
     "execution_count": 24,
     "metadata": {},
     "output_type": "execute_result"
    }
   ],
   "source": [
    "mod1 = lm(price ~ sqft_living + bedrooms + bathrooms \n",
    "                  + lat + long, train_set)\n",
    "mod1$coefficients"
   ]
  },
  {
   "cell_type": "code",
   "execution_count": 25,
   "metadata": {
    "collapsed": false
   },
   "outputs": [
    {
     "data": {
      "text/html": [
       "<dl class=dl-horizontal>\n",
       "\t<dt>(Intercept)</dt>\n",
       "\t\t<dd>-66867968.8710789</dd>\n",
       "\t<dt>sqft_living</dt>\n",
       "\t\t<dd>306.610053458995</dd>\n",
       "\t<dt>bedrooms</dt>\n",
       "\t\t<dd>-113446.368070203</dd>\n",
       "\t<dt>bathrooms</dt>\n",
       "\t\t<dd>-71461.3082927594</dd>\n",
       "\t<dt>lat</dt>\n",
       "\t\t<dd>654844.629503303</dd>\n",
       "\t<dt>long</dt>\n",
       "\t\t<dd>-294298.969138119</dd>\n",
       "\t<dt>bed_bath_rooms</dt>\n",
       "\t\t<dd>25579.6520007522</dd>\n",
       "</dl>\n"
      ],
      "text/latex": [
       "\\begin{description*}\n",
       "\\item[(Intercept)] -66867968.8710789\n",
       "\\item[sqft_living] 306.610053458995\n",
       "\\item[bedrooms] -113446.368070203\n",
       "\\item[bathrooms] -71461.3082927594\n",
       "\\item[lat] 654844.629503303\n",
       "\\item[long] -294298.969138119\n",
       "\\item[bed_bath_rooms] 25579.6520007522\n",
       "\\end{description*}\n"
      ],
      "text/markdown": [
       "(Intercept)\n",
       ":   -66867968.8710789sqft_living\n",
       ":   306.610053458995bedrooms\n",
       ":   -113446.368070203bathrooms\n",
       ":   -71461.3082927594lat\n",
       ":   654844.629503303long\n",
       ":   -294298.969138119bed_bath_rooms\n",
       ":   25579.6520007522\n",
       "\n"
      ],
      "text/plain": [
       "   (Intercept)    sqft_living       bedrooms      bathrooms            lat \n",
       " -6.686797e+07   3.066101e+02  -1.134464e+05  -7.146131e+04   6.548446e+05 \n",
       "          long bed_bath_rooms \n",
       " -2.942990e+05   2.557965e+04 "
      ]
     },
     "execution_count": 25,
     "metadata": {},
     "output_type": "execute_result"
    }
   ],
   "source": [
    "mod2 = lm(price ~ sqft_living + bedrooms + bathrooms \n",
    "                  + lat + long + bed_bath_rooms, train_set)\n",
    "mod2$coefficients"
   ]
  },
  {
   "cell_type": "code",
   "execution_count": 26,
   "metadata": {
    "collapsed": false
   },
   "outputs": [
    {
     "data": {
      "text/html": [
       "<dl class=dl-horizontal>\n",
       "\t<dt>(Intercept)</dt>\n",
       "\t\t<dd>-62036084.9860982</dd>\n",
       "\t<dt>sqft_living</dt>\n",
       "\t\t<dd>529.42281964653</dd>\n",
       "\t<dt>bedrooms</dt>\n",
       "\t\t<dd>34514.2295779905</dd>\n",
       "\t<dt>bathrooms</dt>\n",
       "\t\t<dd>67060.7813189108</dd>\n",
       "\t<dt>lat</dt>\n",
       "\t\t<dd>661420.510873952</dd>\n",
       "\t<dt>long</dt>\n",
       "\t\t<dd>-279415.810854583</dd>\n",
       "\t<dt>bed_bath_rooms</dt>\n",
       "\t\t<dd>-8570.50439463143</dd>\n",
       "\t<dt>bedrooms_squared</dt>\n",
       "\t\t<dd>-6788.58667034</dd>\n",
       "\t<dt>log_sqft_living</dt>\n",
       "\t\t<dd>-561831.484075523</dd>\n",
       "\t<dt>lat_plus_long</dt>\n",
       "\t\t<dd>NA</dd>\n",
       "</dl>\n"
      ],
      "text/latex": [
       "\\begin{description*}\n",
       "\\item[(Intercept)] -62036084.9860982\n",
       "\\item[sqft_living] 529.42281964653\n",
       "\\item[bedrooms] 34514.2295779905\n",
       "\\item[bathrooms] 67060.7813189108\n",
       "\\item[lat] 661420.510873952\n",
       "\\item[long] -279415.810854583\n",
       "\\item[bed_bath_rooms] -8570.50439463143\n",
       "\\item[bedrooms_squared] -6788.58667034\n",
       "\\item[log_sqft_living] -561831.484075523\n",
       "\\item[lat_plus_long] NA\n",
       "\\end{description*}\n"
      ],
      "text/markdown": [
       "(Intercept)\n",
       ":   -62036084.9860982sqft_living\n",
       ":   529.42281964653bedrooms\n",
       ":   34514.2295779905bathrooms\n",
       ":   67060.7813189108lat\n",
       ":   661420.510873952long\n",
       ":   -279415.810854583bed_bath_rooms\n",
       ":   -8570.50439463143bedrooms_squared\n",
       ":   -6788.58667034log_sqft_living\n",
       ":   -561831.484075523lat_plus_long\n",
       ":   NA\n",
       "\n"
      ],
      "text/plain": [
       "     (Intercept)      sqft_living         bedrooms        bathrooms \n",
       "   -6.203608e+07     5.294228e+02     3.451423e+04     6.706078e+04 \n",
       "             lat             long   bed_bath_rooms bedrooms_squared \n",
       "    6.614205e+05    -2.794158e+05    -8.570504e+03    -6.788587e+03 \n",
       " log_sqft_living    lat_plus_long \n",
       "   -5.618315e+05               NA "
      ]
     },
     "execution_count": 26,
     "metadata": {},
     "output_type": "execute_result"
    }
   ],
   "source": [
    "mod3 = lm(price ~ sqft_living + bedrooms + bathrooms \n",
    "                  + lat + long + bed_bath_rooms + bedrooms_squared \n",
    "                  + log_sqft_living + lat_plus_long, train_set)\n",
    "mod3$coefficients"
   ]
  },
  {
   "cell_type": "code",
   "execution_count": 38,
   "metadata": {
    "collapsed": false
   },
   "outputs": [
    {
     "data": {
      "text/html": [
       "<ol class=list-inline>\n",
       "\t<li>9.7e+14</li>\n",
       "\t<li>9.6e+14</li>\n",
       "\t<li>9e+14</li>\n",
       "</ol>\n"
      ],
      "text/latex": [
       "\\begin{enumerate*}\n",
       "\\item 9.7e+14\n",
       "\\item 9.6e+14\n",
       "\\item 9e+14\n",
       "\\end{enumerate*}\n"
      ],
      "text/markdown": [
       "1. 9.7e+14\n",
       "2. 9.6e+14\n",
       "3. 9e+14\n",
       "\n",
       "\n"
      ],
      "text/plain": [
       "[1] 9.7e+14 9.6e+14 9.0e+14"
      ]
     },
     "execution_count": 38,
     "metadata": {},
     "output_type": "execute_result"
    }
   ],
   "source": [
    "sapply(list(mod1, mod2, mod3), function(m) sum(m$residuals^2)) %>% signif(., 2)"
   ]
  },
  {
   "cell_type": "code",
   "execution_count": 45,
   "metadata": {
    "collapsed": false
   },
   "outputs": [
    {
     "name": "stderr",
     "output_type": "stream",
     "text": [
      "Warning message:\n",
      "In predict.lm(m, test_set): prediction from a rank-deficient fit may be misleading"
     ]
    },
    {
     "data": {
      "text/html": [
       "<ol class=list-inline>\n",
       "\t<li>2.3e+14</li>\n",
       "\t<li>2.2e+14</li>\n",
       "\t<li>2.6e+14</li>\n",
       "</ol>\n"
      ],
      "text/latex": [
       "\\begin{enumerate*}\n",
       "\\item 2.3e+14\n",
       "\\item 2.2e+14\n",
       "\\item 2.6e+14\n",
       "\\end{enumerate*}\n"
      ],
      "text/markdown": [
       "1. 2.3e+14\n",
       "2. 2.2e+14\n",
       "3. 2.6e+14\n",
       "\n",
       "\n"
      ],
      "text/plain": [
       "[1] 2.3e+14 2.2e+14 2.6e+14"
      ]
     },
     "execution_count": 45,
     "metadata": {},
     "output_type": "execute_result"
    }
   ],
   "source": [
    "sapply(list(mod1, mod2, mod3), \n",
    "       function(m) sum((test_set$price - predict(m, test_set))^2)\n",
    "       ) %>% signif(., 2)"
   ]
  },
  {
   "cell_type": "code",
   "execution_count": 44,
   "metadata": {
    "collapsed": false
   },
   "outputs": [
    {
     "data": {
      "text/html": [
       "<dl class=dl-horizontal>\n",
       "\t<dt>1</dt>\n",
       "\t\t<dd>165157.639800601</dd>\n",
       "\t<dt>2</dt>\n",
       "\t\t<dd>195336.996164136</dd>\n",
       "\t<dt>3</dt>\n",
       "\t\t<dd>44856.3969432414</dd>\n",
       "\t<dt>4</dt>\n",
       "\t\t<dd>4214.63176248223</dd>\n",
       "\t<dt>5</dt>\n",
       "\t\t<dd>-164903.273404084</dd>\n",
       "\t<dt>6</dt>\n",
       "\t\t<dd>41909.2977549732</dd>\n",
       "</dl>\n"
      ],
      "text/latex": [
       "\\begin{description*}\n",
       "\\item[1] 165157.639800601\n",
       "\\item[2] 195336.996164136\n",
       "\\item[3] 44856.3969432414\n",
       "\\item[4] 4214.63176248223\n",
       "\\item[5] -164903.273404084\n",
       "\\item[6] 41909.2977549732\n",
       "\\end{description*}\n"
      ],
      "text/markdown": [
       "1\n",
       ":   165157.6398006012\n",
       ":   195336.9961641363\n",
       ":   44856.39694324144\n",
       ":   4214.631762482235\n",
       ":   -164903.2734040846\n",
       ":   41909.2977549732\n",
       "\n"
      ],
      "text/plain": [
       "          1           2           3           4           5           6 \n",
       " 165157.640  195336.996   44856.397    4214.632 -164903.273   41909.298 "
      ]
     },
     "execution_count": 44,
     "metadata": {},
     "output_type": "execute_result"
    }
   ],
   "source": [
    "(test_set$price - predict(mod1, test_set)) %>% head"
   ]
  },
  {
   "cell_type": "code",
   "execution_count": null,
   "metadata": {
    "collapsed": true
   },
   "outputs": [],
   "source": []
  }
 ],
 "metadata": {
  "kernelspec": {
   "display_name": "R",
   "language": "R",
   "name": "ir"
  },
  "language_info": {
   "codemirror_mode": "r",
   "file_extension": ".r",
   "mimetype": "text/x-r-source",
   "name": "R",
   "pygments_lexer": "r",
   "version": "3.2.2"
  }
 },
 "nbformat": 4,
 "nbformat_minor": 0
}
