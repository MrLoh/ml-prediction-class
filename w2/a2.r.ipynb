{
 "cells": [
  {
   "cell_type": "code",
   "execution_count": 4,
   "metadata": {
    "collapsed": false
   },
   "outputs": [],
   "source": [
    "library(magrittr)\n",
    "library(dplyr)"
   ]
  },
  {
   "cell_type": "code",
   "execution_count": 5,
   "metadata": {
    "collapsed": false
   },
   "outputs": [],
   "source": [
    "train_set = read.csv(\"../data/kc_house_train_data.csv\")\n",
    "test_set = read.csv(\"../data/kc_house_test_data.csv\")"
   ]
  },
  {
   "cell_type": "code",
   "execution_count": 58,
   "metadata": {
    "collapsed": true
   },
   "outputs": [],
   "source": [
    "make_feature_matrix = function(data, ...){\n",
    "    cbind(intercept=rep(1, nrow(data)), as.matrix(select(data, ...)))\n",
    "}"
   ]
  },
  {
   "cell_type": "code",
   "execution_count": 48,
   "metadata": {
    "collapsed": true
   },
   "outputs": [],
   "source": [
    "predict_outcome = function(feature_matrix, weights){\n",
    "    feature_matrix %*% weights\n",
    "}"
   ]
  },
  {
   "cell_type": "code",
   "execution_count": 52,
   "metadata": {
    "collapsed": true
   },
   "outputs": [],
   "source": [
    "regression_gradient_descent = function(\n",
    "        feature_matrix, output, initial_weights=rep(0, ncol(feature_matrix)),\n",
    "        step_size=0.000000001, tolerance=10){\n",
    "    weights <- initial_weights\n",
    "    counter <- 0\n",
    "    repeat {\n",
    "        rss_gradient = -2*t(feature_matrix) %*% (output - feature_matrix %*% weights)\n",
    "        # cat(weights, \"\\n\")\n",
    "        # cat(norm(rss_gradient), \"\\n\\n\")\n",
    "        if( norm(rss_gradient) < tolerance ) break\n",
    "        weights <- weights - step_size * rss_gradient\n",
    "        counter <- counter + 1\n",
    "    }\n",
    "    cat(\"converged after\", counter, \"iterations\")\n",
    "    weights\n",
    "}"
   ]
  },
  {
   "cell_type": "code",
   "execution_count": 69,
   "metadata": {
    "collapsed": true
   },
   "outputs": [],
   "source": [
    "rss = function(feature_matrix, output, weights){\n",
    "    c(t(output - feature_matrix %*% weights) %*% (output - feature_matrix %*% weights))\n",
    "}"
   ]
  },
  {
   "cell_type": "code",
   "execution_count": 81,
   "metadata": {
    "collapsed": false
   },
   "outputs": [
    {
     "name": "stdout",
     "output_type": "stream",
     "text": [
      "converged after 11 iterations"
     ]
    },
    {
     "data": {
      "text/html": [
       "<table>\n",
       "<tbody>\n",
       "\t<tr><th scope=row>intercept</th><td>-46999.9</td></tr>\n",
       "\t<tr><th scope=row>sqft_living</th><td>281.9</td></tr>\n",
       "</tbody>\n",
       "</table>\n"
      ],
      "text/latex": [
       "\\begin{tabular}{r|l}\n",
       "\tintercept & -46999.9\\\\\n",
       "\tsqft_living & 281.9\\\\\n",
       "\\end{tabular}\n"
      ],
      "text/markdown": [
       "1. -46999.9\n",
       "2. 281.9\n",
       "\n",
       "\n"
      ],
      "text/plain": [
       "                [,1]\n",
       "intercept   -46999.9\n",
       "sqft_living    281.9"
      ]
     },
     "execution_count": 81,
     "metadata": {},
     "output_type": "execute_result"
    }
   ],
   "source": [
    "output = train_set$price\n",
    "feature_matrix = make_feature_matrix(train_set, sqft_living)\n",
    "initial_weights=c(-47000, 1)\n",
    "\n",
    "mod1_weights = regression_gradient_descent(feature_matrix, output, initial_weights,\n",
    "                                           step_size=7e-12, tolerance=2.5e7)\n",
    "mod1_weights %>% round(., 1)"
   ]
  },
  {
   "cell_type": "code",
   "execution_count": 96,
   "metadata": {
    "collapsed": false
   },
   "outputs": [
    {
     "data": {
      "text/html": [
       "'2.8e+14'"
      ],
      "text/latex": [
       "'2.8e+14'"
      ],
      "text/markdown": [
       "'2.8e+14'"
      ],
      "text/plain": [
       "[1] \"2.8e+14\""
      ]
     },
     "execution_count": 96,
     "metadata": {},
     "output_type": "execute_result"
    }
   ],
   "source": [
    "test_output = test_set$price\n",
    "test_feature_matrix = make_feature_matrix(test_set, sqft_living)\n",
    "rss(test_feature_matrix, test_output, mod1_weights) %>% signif(., 2) %>% format"
   ]
  },
  {
   "cell_type": "code",
   "execution_count": 97,
   "metadata": {
    "collapsed": false
   },
   "outputs": [
    {
     "name": "stdout",
     "output_type": "stream",
     "text": [
      "converged after 288 iterations"
     ]
    },
    {
     "data": {
      "text/html": [
       "<table>\n",
       "<tbody>\n",
       "\t<tr><th scope=row>intercept</th><td>-1e+05</td></tr>\n",
       "\t<tr><th scope=row>sqft_living</th><td>245.1</td></tr>\n",
       "\t<tr><th scope=row>sqft_living15</th><td>65.2</td></tr>\n",
       "</tbody>\n",
       "</table>\n"
      ],
      "text/latex": [
       "\\begin{tabular}{r|l}\n",
       "\tintercept & -1e+05\\\\\n",
       "\tsqft_living & 245.1\\\\\n",
       "\tsqft_living15 & 65.2\\\\\n",
       "\\end{tabular}\n"
      ],
      "text/markdown": [
       "1. -1e+05\n",
       "2. 245.1\n",
       "3. 65.2\n",
       "\n",
       "\n"
      ],
      "text/plain": [
       "                   [,1]\n",
       "intercept     -100000.0\n",
       "sqft_living       245.1\n",
       "sqft_living15      65.2"
      ]
     },
     "execution_count": 97,
     "metadata": {},
     "output_type": "execute_result"
    }
   ],
   "source": [
    "feature_matrix = make_feature_matrix(train_set, sqft_living, sqft_living15)\n",
    "initial_weights = c(-100000, 1, 1)\n",
    "\n",
    "mod2_weights = regression_gradient_descent(feature_matrix, output, initial_weights,\n",
    "                                           step_size=4e-12, tolerance=1e9)\n",
    "mod2_weights %>% round(., 1)"
   ]
  },
  {
   "cell_type": "code",
   "execution_count": 98,
   "metadata": {
    "collapsed": false
   },
   "outputs": [
    {
     "data": {
      "text/html": [
       "'2.7e+14'"
      ],
      "text/latex": [
       "'2.7e+14'"
      ],
      "text/markdown": [
       "'2.7e+14'"
      ],
      "text/plain": [
       "[1] \"2.7e+14\""
      ]
     },
     "execution_count": 98,
     "metadata": {},
     "output_type": "execute_result"
    }
   ],
   "source": [
    "test_feature_matrix2 = make_feature_matrix(test_set, sqft_living, sqft_living15)\n",
    "rss(test_feature_matrix2, test_output, mod2_weights) %>% as.numeric %>% signif(., 2) %>% format"
   ]
  },
  {
   "cell_type": "code",
   "execution_count": 104,
   "metadata": {
    "collapsed": false
   },
   "outputs": [
    {
     "data": {
      "text/html": [
       "<table>\n",
       "<thead><tr><th scope=col>mod1_prediction</th><th scope=col>mod2_prediction</th><th scope=col>actual_vals</th></tr></thead>\n",
       "<tbody>\n",
       "\t<tr><td>356135</td><td>366635</td><td>310000</td></tr>\n",
       "\t<tr><td>784641</td><td>762682</td><td>650000</td></tr>\n",
       "\t<tr><td>435070</td><td>386331</td><td>233000</td></tr>\n",
       "\t<tr><td>607037</td><td>636974</td><td>580500</td></tr>\n",
       "\t<tr><td>260284</td><td>269599</td><td>535000</td></tr>\n",
       "\t<tr><td>691610</td><td>713115</td><td>605000</td></tr>\n",
       "</tbody>\n",
       "</table>\n"
      ],
      "text/latex": [
       "\\begin{tabular}{lll}\n",
       " mod1_prediction & mod2_prediction & actual_vals\\\\\n",
       "\\hline\n",
       "\t 356135 & 366635 & 310000\\\\\n",
       "\t 784641 & 762682 & 650000\\\\\n",
       "\t 435070 & 386331 & 233000\\\\\n",
       "\t 607037 & 636974 & 580500\\\\\n",
       "\t 260284 & 269599 & 535000\\\\\n",
       "\t 691610 & 713115 & 605000\\\\\n",
       "\\end{tabular}\n"
      ],
      "text/markdown": [
       "1. 356135\n",
       "2. 784641\n",
       "3. 435070\n",
       "4. 607037\n",
       "5. 260284\n",
       "6. 691610\n",
       "7. 366635\n",
       "8. 762682\n",
       "9. 386331\n",
       "10. 636974\n",
       "11. 269599\n",
       "12. 713115\n",
       "13. 310000\n",
       "14. 650000\n",
       "15. 233000\n",
       "16. 580500\n",
       "17. 535000\n",
       "18. 605000\n",
       "\n",
       "\n"
      ],
      "text/plain": [
       "     mod1_prediction mod2_prediction actual_vals\n",
       "[1,]          356135          366635      310000\n",
       "[2,]          784641          762682      650000\n",
       "[3,]          435070          386331      233000\n",
       "[4,]          607037          636974      580500\n",
       "[5,]          260284          269599      535000\n",
       "[6,]          691610          713115      605000"
      ]
     },
     "execution_count": 104,
     "metadata": {},
     "output_type": "execute_result"
    }
   ],
   "source": [
    "predictions = cbind(\n",
    "    predict_outcome(test_feature_matrix, mod1_weights), \n",
    "    predict_outcome(test_feature_matrix2, mod2_weights), \n",
    "    test_output)\n",
    "colnames(predictions) = c(\"mod1_prediction\", \"mod2_prediction\", \"actual_vals\")\n",
    "predictions %>% round %>% head"
   ]
  }
 ],
 "metadata": {
  "kernelspec": {
   "display_name": "R",
   "language": "R",
   "name": "ir"
  },
  "language_info": {
   "codemirror_mode": "r",
   "file_extension": ".r",
   "mimetype": "text/x-r-source",
   "name": "R",
   "pygments_lexer": "r",
   "version": "3.2.2"
  }
 },
 "nbformat": 4,
 "nbformat_minor": 0
}
